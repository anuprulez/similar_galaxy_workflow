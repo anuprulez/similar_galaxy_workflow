{
 "cells": [
  {
   "cell_type": "code",
   "execution_count": 12,
   "metadata": {
    "scrolled": true
   },
   "outputs": [
    {
     "name": "stdout",
     "output_type": "stream",
     "text": [
      "159989\n",
      "['wf_id' 'Unnamed: 1' 'Unnamed: 2' 'Unnamed: 3' 'Unnamed: 4' 'Unnamed: 5'\n",
      " 'Unnamed: 6' 'Unnamed: 7']\n"
     ]
    }
   ],
   "source": [
    "# Create datasets\n",
    "\n",
    "import pandas as pd\n",
    "\n",
    "path = \"data/workflows/wf-connections_rep.tsv\"\n",
    "\n",
    "df = pd.read_csv(path, sep=\"\\t\")\n",
    "\n",
    "df = df.sort_values(by='wf_id')\n",
    "\n",
    "print(len(df))\n",
    "\n",
    "print(df.columns.values)\n",
    "\n",
    "df_new = df[(df[\"wf_id\"] > 0) & (df[\"wf_id\"] < 12000)]\n",
    "df_new.to_csv(\"data/workflows/wf_connections_0_12k.tsv\", sep='\\t', encoding='utf-8', index=False, header=False)\n"
   ]
  },
  {
   "cell_type": "code",
   "execution_count": 4,
   "metadata": {
    "scrolled": false
   },
   "outputs": [
    {
     "name": "stdout",
     "output_type": "stream",
     "text": [
      "126012\n",
      "7356\n",
      "133368\n"
     ]
    }
   ],
   "source": [
    "# Merge datasets\n",
    "\n",
    "def combine_wb():\n",
    "    path1 = \"data/workflows/workflow_connections_12.tsv\"\n",
    "    path2 = \"data/workflows/workflow_connections_4_0_2k.tsv\"\n",
    "    df1 = pd.read_csv(path1, sep=\",\")\n",
    "    df2 = pd.read_csv(path2, sep=\",\")\n",
    "    frames = [df1, df2]\n",
    "    print(len(df1))\n",
    "    print(len(df2))\n",
    "    frames = pd.concat(frames)\n",
    "    print(len(frames))\n",
    "    frames.to_csv(\"data/workflows/workflow_connections_124.tsv\", sep=',', encoding='utf-8', index=False)\n",
    "    \n",
    "combine_wb()"
   ]
  },
  {
   "cell_type": "code",
   "execution_count": null,
   "metadata": {},
   "outputs": [],
   "source": []
  }
 ],
 "metadata": {
  "kernelspec": {
   "display_name": "Python 3",
   "language": "python",
   "name": "python3"
  },
  "language_info": {
   "codemirror_mode": {
    "name": "ipython",
    "version": 3
   },
   "file_extension": ".py",
   "mimetype": "text/x-python",
   "name": "python",
   "nbconvert_exporter": "python",
   "pygments_lexer": "ipython3",
   "version": "3.6.5"
  }
 },
 "nbformat": 4,
 "nbformat_minor": 2
}
