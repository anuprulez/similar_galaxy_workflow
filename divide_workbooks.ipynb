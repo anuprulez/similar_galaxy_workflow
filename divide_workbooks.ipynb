{
 "cells": [
  {
   "cell_type": "code",
   "execution_count": 7,
   "metadata": {
    "scrolled": false
   },
   "outputs": [
    {
     "name": "stdout",
     "output_type": "stream",
     "text": [
      "18595\n",
      "107417\n",
      "126012\n"
     ]
    }
   ],
   "source": [
    "import pandas as pd\n",
    "\n",
    "'''path = \"data/workflows/workflow_connections_old.tsv\"\n",
    "\n",
    "df = pd.read_csv(path, sep=\",\")\n",
    "print(len(df))\n",
    "\n",
    "df_new = df[df[\"wf_id\"] < 1000]\n",
    "print(len(df_new))\n",
    "df_new.to_csv(\"data/workflows/workflow_connections_1.tsv\", sep=',', encoding='utf-8', index=False)'''\n",
    "\n",
    "def combine_wb():\n",
    "    path1 = \"data/workflows/workflow_connections_1.tsv\"\n",
    "    path2 = \"data/workflows/workflow_connections_2.tsv\"\n",
    "    df1 = pd.read_csv(path1, sep=\",\")\n",
    "    df2 = pd.read_csv(path2, sep=\",\")\n",
    "    frames = [df1, df2]\n",
    "    print(len(df1))\n",
    "    print(len(df2))\n",
    "    frames = pd.concat(frames)\n",
    "    print(len(frames))\n",
    "    frames.to_csv(\"data/workflows/workflow_connections_12.tsv\", sep=',', encoding='utf-8', index=False)\n",
    "    \n",
    "combine_wb()\n",
    "\n"
   ]
  },
  {
   "cell_type": "code",
   "execution_count": null,
   "metadata": {},
   "outputs": [],
   "source": []
  }
 ],
 "metadata": {
  "kernelspec": {
   "display_name": "Python 3",
   "language": "python",
   "name": "python3"
  },
  "language_info": {
   "codemirror_mode": {
    "name": "ipython",
    "version": 3
   },
   "file_extension": ".py",
   "mimetype": "text/x-python",
   "name": "python",
   "nbconvert_exporter": "python",
   "pygments_lexer": "ipython3",
   "version": "3.6.5"
  }
 },
 "nbformat": 4,
 "nbformat_minor": 2
}
