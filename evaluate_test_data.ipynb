{
 "cells": [
  {
   "cell_type": "code",
   "execution_count": 8,
   "metadata": {},
   "outputs": [],
   "source": [
    "import numpy as np\n",
    "import json\n",
    "import warnings\n",
    "\n",
    "import h5py\n",
    "from keras.models import model_from_json\n",
    "\n",
    "from matplotlib import pyplot as plt\n",
    "\n",
    "warnings.filterwarnings(\"ignore\")\n",
    "\n",
    "size_title = 18\n",
    "size_label = 14\n",
    "n_pred = 2\n",
    "\n",
    "path_data_dict = \"data/generated_files/data_dict.txt\"\n",
    "path_inverted_wt = \"data/generated_files/inverted_weights.txt\"\n",
    "path_usage_wt = \"data/generated_files/usage_prediction.txt\"\n",
    "path_class_wt = \"data/generated_files/class_weights.txt\"\n",
    "path_test_data = \"data/generated_files/test_data.txt\"\n",
    "model_path = \"data/generated_files/trained_model.hdf5\"\n",
    "\n",
    "def read_file(file_path):\n",
    "    with open(file_path, 'r') as data_file:\n",
    "        data = json.loads(data_file.read())\n",
    "    return data\n",
    "\n",
    "def create_model(model_path):\n",
    "    trained_model = h5py.File(model_path, 'r')\n",
    "    model_config = json.loads(trained_model.get('model_config').value)\n",
    "    loaded_model = model_from_json(model_config)\n",
    "    dictionary = json.loads(trained_model.get('data_dictionary').value)\n",
    "    compatibile_tools = json.loads(trained_model.get('compatible_tools').value)\n",
    "    reverse_dictionary = dict((v, k) for k, v in dictionary.items())\n",
    "    model_weights = list()\n",
    "    weight_ctr = 0\n",
    "    while True:\n",
    "        try:\n",
    "            d_key = \"weight_\" + str(weight_ctr)\n",
    "            weights = trained_model.get(d_key).value\n",
    "            model_weights.append(weights)\n",
    "            weight_ctr += 1\n",
    "        except Exception as exception:\n",
    "            break\n",
    "    # set the model weights\n",
    "    loaded_model.set_weights(model_weights)\n",
    "    return loaded_model, dictionary, reverse_dictionary, compatibile_tools\n",
    "\n",
    "model, dictionary, reverse_dictionary, compatibile_tools = create_model(model_path)\n"
   ]
  },
  {
   "cell_type": "code",
   "execution_count": 28,
   "metadata": {},
   "outputs": [
    {
     "name": "stdout",
     "output_type": "stream",
     "text": [
      "615,841,471,775,439,24,489,497,457,464,192,875,816,118 680,244,231,426\n",
      "6\n",
      "[489 190 841] [3.33, 3.78, 6.96]\n",
      "['Filter1', 'htseq_count', 'fastqc'] ['Filter1', 'fastqc']\n",
      "{'Filter1': 3.33, 'fastqc': 6.96}\n",
      "1\n"
     ]
    },
    {
     "ename": "IndexError",
     "evalue": "index -2 is out of bounds for axis 0 with size 1",
     "output_type": "error",
     "traceback": [
      "\u001b[0;31m---------------------------------------------------------------------------\u001b[0m",
      "\u001b[0;31mIndexError\u001b[0m                                Traceback (most recent call last)",
      "\u001b[0;32m<ipython-input-28-2d79dc1eebd4>\u001b[0m in \u001b[0;36m<module>\u001b[0;34m\u001b[0m\n\u001b[1;32m     49\u001b[0m         \u001b[0;31m#break\u001b[0m\u001b[0;34m\u001b[0m\u001b[0;34m\u001b[0m\u001b[0m\n\u001b[1;32m     50\u001b[0m \u001b[0;34m\u001b[0m\u001b[0m\n\u001b[0;32m---> 51\u001b[0;31m \u001b[0mget_predictions\u001b[0m\u001b[0;34m(\u001b[0m\u001b[0mmodel\u001b[0m\u001b[0;34m,\u001b[0m \u001b[0mdictionary\u001b[0m\u001b[0;34m,\u001b[0m \u001b[0mreverse_dictionary\u001b[0m\u001b[0;34m,\u001b[0m \u001b[0mcompatibile_tools\u001b[0m\u001b[0;34m)\u001b[0m\u001b[0;34m\u001b[0m\u001b[0m\n\u001b[0m",
      "\u001b[0;32m<ipython-input-28-2d79dc1eebd4>\u001b[0m in \u001b[0;36mget_predictions\u001b[0;34m(model, dictionary, reverse_dictionary, compatibile_tools)\u001b[0m\n\u001b[1;32m     46\u001b[0m     \u001b[0;32mfor\u001b[0m \u001b[0mph\u001b[0m\u001b[0;34m,\u001b[0m \u001b[0mcl\u001b[0m \u001b[0;32min\u001b[0m \u001b[0mt_data\u001b[0m\u001b[0;34m.\u001b[0m\u001b[0mitems\u001b[0m\u001b[0;34m(\u001b[0m\u001b[0;34m)\u001b[0m\u001b[0;34m:\u001b[0m\u001b[0;34m\u001b[0m\u001b[0m\n\u001b[1;32m     47\u001b[0m         \u001b[0mprint\u001b[0m\u001b[0;34m(\u001b[0m\u001b[0mph\u001b[0m\u001b[0;34m,\u001b[0m \u001b[0mcl\u001b[0m\u001b[0;34m)\u001b[0m\u001b[0;34m\u001b[0m\u001b[0m\n\u001b[0;32m---> 48\u001b[0;31m         \u001b[0mverify_model\u001b[0m\u001b[0;34m(\u001b[0m\u001b[0mmodel\u001b[0m\u001b[0;34m,\u001b[0m \u001b[0mph\u001b[0m\u001b[0;34m,\u001b[0m \u001b[0mcl\u001b[0m\u001b[0;34m,\u001b[0m \u001b[0mdictionary\u001b[0m\u001b[0;34m,\u001b[0m \u001b[0mreverse_dictionary\u001b[0m\u001b[0;34m,\u001b[0m \u001b[0mcompatibile_tools\u001b[0m\u001b[0;34m)\u001b[0m\u001b[0;34m\u001b[0m\u001b[0m\n\u001b[0m\u001b[1;32m     49\u001b[0m         \u001b[0;31m#break\u001b[0m\u001b[0;34m\u001b[0m\u001b[0;34m\u001b[0m\u001b[0m\n\u001b[1;32m     50\u001b[0m \u001b[0;34m\u001b[0m\u001b[0m\n",
      "\u001b[0;32m<ipython-input-28-2d79dc1eebd4>\u001b[0m in \u001b[0;36mverify_model\u001b[0;34m(model, tool_sequence, labels, dictionary, reverse_dictionary, compatible_tools, topk, max_seq_len)\u001b[0m\n\u001b[1;32m      8\u001b[0m     \u001b[0;32mfor\u001b[0m \u001b[0midx\u001b[0m\u001b[0;34m,\u001b[0m \u001b[0mtool_id\u001b[0m \u001b[0;32min\u001b[0m \u001b[0menumerate\u001b[0m\u001b[0;34m(\u001b[0m\u001b[0mtool_sequence\u001b[0m\u001b[0;34m)\u001b[0m\u001b[0;34m:\u001b[0m\u001b[0;34m\u001b[0m\u001b[0m\n\u001b[1;32m      9\u001b[0m         \u001b[0mprint\u001b[0m\u001b[0;34m(\u001b[0m\u001b[0mtool_id\u001b[0m\u001b[0;34m)\u001b[0m\u001b[0;34m\u001b[0m\u001b[0m\n\u001b[0;32m---> 10\u001b[0;31m         \u001b[0msample\u001b[0m\u001b[0;34m[\u001b[0m\u001b[0;34m-\u001b[0m\u001b[0;34m(\u001b[0m\u001b[0midx\u001b[0m \u001b[0;34m+\u001b[0m \u001b[0;36m1\u001b[0m\u001b[0;34m)\u001b[0m\u001b[0;34m]\u001b[0m \u001b[0;34m=\u001b[0m \u001b[0mint\u001b[0m\u001b[0;34m(\u001b[0m\u001b[0mtool_id\u001b[0m\u001b[0;34m)\u001b[0m\u001b[0;34m\u001b[0m\u001b[0m\n\u001b[0m\u001b[1;32m     11\u001b[0m         \u001b[0msample\u001b[0m \u001b[0;34m=\u001b[0m \u001b[0mnp\u001b[0m\u001b[0;34m.\u001b[0m\u001b[0mreshape\u001b[0m\u001b[0;34m(\u001b[0m\u001b[0msample\u001b[0m\u001b[0;34m,\u001b[0m \u001b[0;34m(\u001b[0m\u001b[0;36m1\u001b[0m\u001b[0;34m,\u001b[0m \u001b[0mmax_seq_len\u001b[0m\u001b[0;34m)\u001b[0m\u001b[0;34m)\u001b[0m\u001b[0;34m\u001b[0m\u001b[0m\n\u001b[1;32m     12\u001b[0m \u001b[0;34m\u001b[0m\u001b[0m\n",
      "\u001b[0;31mIndexError\u001b[0m: index -2 is out of bounds for axis 0 with size 1"
     ]
    }
   ],
   "source": [
    "def verify_model(model, tool_sequence, labels, dictionary, reverse_dictionary, compatible_tools, topk=3, max_seq_len=25):\n",
    "    \n",
    "    sample = np.zeros(max_seq_len)\n",
    "    tl_seq = tool_sequence.split(\",\")\n",
    "    last_tool_name = reverse_dictionary[int(tl_seq[-1])]\n",
    "    last_compatible_tools = compatible_tools[last_tool_name]\n",
    "\n",
    "    for idx, tool_id in enumerate(tool_sequence):\n",
    "        print(tool_id)\n",
    "        sample[-(idx + 1)] = int(tool_id)\n",
    "        sample = np.reshape(sample, (1, max_seq_len))\n",
    "\n",
    "        # predict next tools for a test path\n",
    "        prediction = model.predict(sample, verbose=0)\n",
    "        prediction = np.reshape(prediction, (prediction.shape[1],))\n",
    "        prediction_pos = np.argsort(prediction, axis=-1)\n",
    "\n",
    "        # get topk prediction\n",
    "        topk_prediction_pos = prediction_pos[-topk:]\n",
    "        topk_prediction_val = [np.round(prediction[pos] * 100, 2) for pos in topk_prediction_pos]\n",
    "        \n",
    "        print(topk_prediction_pos, topk_prediction_val)\n",
    "\n",
    "        # read tool names using reverse dictionary\n",
    "        pred_tool_ids = [reverse_dictionary[int(tool_pos)] for tool_pos in topk_prediction_pos]\n",
    "        actual_next_tool_ids = list(set(pred_tool_ids).intersection(set(last_compatible_tools.split(\",\"))))\n",
    "        \n",
    "        print(pred_tool_ids, actual_next_tool_ids)\n",
    "\n",
    "        pred_tool_ids_sorted = dict()\n",
    "        for (tool_pos, tool_pred_val) in zip(topk_prediction_pos, topk_prediction_val):\n",
    "            tool_name = reverse_dictionary[int(tool_pos)]\n",
    "            if tool_name in actual_next_tool_ids:\n",
    "                pred_tool_ids_sorted[tool_name] = tool_pred_val\n",
    "        print(pred_tool_ids_sorted)\n",
    "        # find false positives\n",
    "        #false_positives = [ tool_name for tool_name in top_predicted_next_tool_names if tool_name not in actual_next_tool_names ]\n",
    "        #absolute_precision = 1 - ( len( false_positives ) / float( len( actual_classes_pos ) ) )\n",
    "        #ave_abs_precision.append(absolute_precision)\n",
    "    #mean_precision = np.mean(ave_abs_precision)\n",
    "    #print(\"Absolute precision on test data using current model is: %0.6f\" % mean_precision)\n",
    "    #return mean_precision\n",
    "\n",
    "def get_predictions(model, dictionary, reverse_dictionary, compatibile_tools):\n",
    "    t_data = read_file(path_test_data)\n",
    "    for ph, cl in t_data.items():\n",
    "        print(ph, cl)\n",
    "        verify_model(model, ph, cl, dictionary, reverse_dictionary, compatibile_tools)\n",
    "        #break\n",
    "\n",
    "get_predictions(model, dictionary, reverse_dictionary, compatibile_tools)"
   ]
  },
  {
   "cell_type": "code",
   "execution_count": 19,
   "metadata": {},
   "outputs": [
    {
     "ename": "NameError",
     "evalue": "name 'topk_prediction_pos' is not defined",
     "output_type": "error",
     "traceback": [
      "\u001b[0;31m---------------------------------------------------------------------------\u001b[0m",
      "\u001b[0;31mNameError\u001b[0m                                 Traceback (most recent call last)",
      "\u001b[0;32m<ipython-input-19-eabfa838ffdc>\u001b[0m in \u001b[0;36m<module>\u001b[0;34m\u001b[0m\n\u001b[0;32m----> 1\u001b[0;31m \u001b[0mtopk_prediction_pos\u001b[0m\u001b[0;34m\u001b[0m\u001b[0m\n\u001b[0m",
      "\u001b[0;31mNameError\u001b[0m: name 'topk_prediction_pos' is not defined"
     ]
    }
   ],
   "source": []
  },
  {
   "cell_type": "code",
   "execution_count": null,
   "metadata": {},
   "outputs": [],
   "source": []
  }
 ],
 "metadata": {
  "kernelspec": {
   "display_name": "Python 3",
   "language": "python",
   "name": "python3"
  },
  "language_info": {
   "codemirror_mode": {
    "name": "ipython",
    "version": 3
   },
   "file_extension": ".py",
   "mimetype": "text/x-python",
   "name": "python",
   "nbconvert_exporter": "python",
   "pygments_lexer": "ipython3",
   "version": "3.6.5"
  }
 },
 "nbformat": 4,
 "nbformat_minor": 2
}
